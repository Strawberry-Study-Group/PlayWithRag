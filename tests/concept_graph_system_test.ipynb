{
 "cells": [
  {
   "cell_type": "code",
   "execution_count": 1,
   "id": "c83be29b",
   "metadata": {},
   "outputs": [],
   "source": [
    "import sys\n",
    "import json\n",
    "\n",
    "sys.path.append(\"..\")\n",
    "from concept_graph.concept_graph import ConceptGraph\n",
    "\n",
    "file_store_config = {\n",
    "    \"provider\": \"local\",\n",
    "    \"save_path\": \"sys_test_world\",\n",
    "}\n",
    "\n",
    "concept_graph_config = {\n",
    "    \"provider\": \"local\",\n",
    "    \"openai_api_key\": \"sk-LwKKx8GGd_J11ZqttCmi0Efwv5EP3GAiYkNUUvyQsP0A\",\n",
    "    \"emb_model\": \"text-embedding-3-small\",\n",
    "    \"emb_dim\": 1536\n",
    "}\n",
    "\n"
   ]
  },
  {
   "cell_type": "code",
   "execution_count": 2,
   "id": "10d56fc0",
   "metadata": {},
   "outputs": [],
   "source": [
    "concept_graph = ConceptGraph(\n",
    "        concept_graph_config,\n",
    "        file_store_config\n",
    "        )"
   ]
  },
  {
   "cell_type": "code",
   "execution_count": 3,
   "id": "869deaa7",
   "metadata": {
    "scrolled": false
   },
   "outputs": [],
   "source": [
    "concept_graph.empty_graph()"
   ]
  },
  {
   "cell_type": "code",
   "execution_count": 4,
   "id": "d35b724c",
   "metadata": {},
   "outputs": [],
   "source": [
    "\n",
    "concept_name = \"kobuko\"\n",
    "concept_type = \"npc\"\n",
    "concept_attributes = {\"gender\": \"male\",\n",
    "                      \"age\": \"young\",\n",
    "                      \"npc_description\": \"kobuko is very tanky npc, it can heal himself\"\n",
    "                      \n",
    "                     }\n",
    "concept_graph.add_concept(concept_name, concept_type, concept_attributes)\n",
    "\n",
    "# NPC 1\n",
    "concept_name = \"Eldrin\"\n",
    "concept_type = \"npc\"\n",
    "concept_attributes = {\n",
    "    \"gender\": \"male\",\n",
    "    \"age\": \"old\",\n",
    "    \"npc_description\": \"Eldrin is a wise and powerful wizard who guides the player through their quest. He possesses vast knowledge of ancient magic and provides valuable advice.\"\n",
    "}\n",
    "concept_graph.add_concept(concept_name, concept_type, concept_attributes)\n",
    "\n",
    "# NPC 2\n",
    "concept_name = \"Lyra\"\n",
    "concept_type = \"npc\"\n",
    "concept_attributes = {\n",
    "    \"gender\": \"female\",\n",
    "    \"age\": \"young\",\n",
    "    \"npc_description\": \"Lyra is a skilled archer and a loyal companion to the player. She is quick-witted and always ready to lend a helping hand in battle.\"\n",
    "}\n",
    "concept_graph.add_concept(concept_name, concept_type, concept_attributes)\n",
    "\n",
    "# NPC 3\n",
    "concept_name = \"Thorgrim\"\n",
    "concept_type = \"npc\"\n",
    "concept_attributes = {\n",
    "    \"gender\": \"male\",\n",
    "    \"age\": \"middle-aged\",\n",
    "    \"npc_description\": \"Thorgrim is a mighty dwarven warrior who joins the player's party. He is a master of crafting legendary weapons and armor.\"\n",
    "}\n",
    "concept_graph.add_concept(concept_name, concept_type, concept_attributes)\n",
    "\n",
    "# NPC 4\n",
    "concept_name = \"Elara\"\n",
    "concept_type = \"npc\"\n",
    "concept_attributes = {\n",
    "    \"gender\": \"female\",\n",
    "    \"age\": \"young\",\n",
    "    \"npc_description\": \"Elara is a mystical elf who possesses the ability to communicate with nature. She can summon powerful creatures to aid the player in battle.\"\n",
    "}\n",
    "concept_graph.add_concept(concept_name, concept_type, concept_attributes)\n",
    "\n",
    "# NPC 5\n",
    "concept_name = \"Rognark\"\n",
    "concept_type = \"npc\"\n",
    "concept_attributes = {\n",
    "    \"gender\": \"male\",\n",
    "    \"age\": \"old\",\n",
    "    \"npc_description\": \"Rognark is an ancient dragon who has taken human form. He offers the player quests and rewards them with rare treasures.\"\n",
    "}\n",
    "concept_graph.add_concept(concept_name, concept_type, concept_attributes)\n",
    "\n",
    "# NPC 6\n",
    "concept_name = \"Aria\"\n",
    "concept_type = \"npc\"\n",
    "concept_attributes = {\n",
    "    \"gender\": \"female\",\n",
    "    \"age\": \"young\",\n",
    "    \"npc_description\": \"Aria is a skilled bard who travels with the player. Her enchanting music can boost the morale of allies and weaken enemies in battle.\"\n",
    "}\n",
    "concept_graph.add_concept(concept_name, concept_type, concept_attributes)\n",
    "\n",
    "# NPC 7\n",
    "concept_name = \"Zephyr\"\n",
    "concept_type = \"npc\"\n",
    "concept_attributes = {\n",
    "    \"gender\": \"male\",\n",
    "    \"age\": \"young\",\n",
    "    \"npc_description\": \"Zephyr is a mischievous wind spirit who enjoys playing tricks on the player. He can also provide helpful information and clues.\"\n",
    "}\n",
    "concept_graph.add_concept(concept_name, concept_type, concept_attributes)\n",
    "\n",
    "# NPC 8\n",
    "concept_name = \"Naia\"\n",
    "concept_type = \"npc\"\n",
    "concept_attributes = {\n",
    "    \"gender\": \"female\",\n",
    "    \"age\": \"middle-aged\",\n",
    "    \"npc_description\": \"Naia is a wise and caring healer who runs a sanctuary for the wounded. She offers the player healing services and potions.\"\n",
    "}\n",
    "concept_graph.add_concept(concept_name, concept_type, concept_attributes)\n",
    "\n",
    "# NPC 9\n",
    "concept_name = \"Grom\"\n",
    "concept_type = \"npc\"\n",
    "concept_attributes = {\n",
    "    \"gender\": \"male\",\n",
    "    \"age\": \"old\",\n",
    "    \"npc_description\": \"Grom is a retired gladiator who now serves as a mentor to aspiring warriors. He can train the player in advanced combat techniques.\"\n",
    "}\n",
    "concept_graph.add_concept(concept_name, concept_type, concept_attributes)\n",
    "\n",
    "# NPC 10\n",
    "concept_name = \"Lumi\"\n",
    "concept_type = \"npc\"\n",
    "concept_attributes = {\n",
    "    \"gender\": \"female\",\n",
    "    \"age\": \"young\",\n",
    "    \"npc_description\": \"Lumi is a mysterious figure who appears in the player's dreams, offering cryptic messages and prophecies about their destiny.\"\n",
    "}\n",
    "concept_graph.add_concept(concept_name, concept_type, concept_attributes)"
   ]
  },
  {
   "cell_type": "code",
   "execution_count": 5,
   "id": "d93eb8f8",
   "metadata": {},
   "outputs": [],
   "source": [
    "concept_graph.save_graph()"
   ]
  },
  {
   "cell_type": "code",
   "execution_count": 6,
   "id": "d624a726",
   "metadata": {},
   "outputs": [],
   "source": [
    "# Get the concept IDs of the NPCs\n",
    "kobuko_id = concept_graph.get_concept_id_by_name(\"kobuko\")\n",
    "eldrin_id = concept_graph.get_concept_id_by_name(\"Eldrin\")\n",
    "lyra_id = concept_graph.get_concept_id_by_name(\"Lyra\")\n",
    "thorgrim_id = concept_graph.get_concept_id_by_name(\"Thorgrim\")\n",
    "elara_id = concept_graph.get_concept_id_by_name(\"Elara\")\n",
    "rognark_id = concept_graph.get_concept_id_by_name(\"Rognark\")\n",
    "aria_id = concept_graph.get_concept_id_by_name(\"Aria\")\n",
    "zephyr_id = concept_graph.get_concept_id_by_name(\"Zephyr\")\n",
    "naia_id = concept_graph.get_concept_id_by_name(\"Naia\")\n",
    "grom_id = concept_graph.get_concept_id_by_name(\"Grom\")\n",
    "lumi_id = concept_graph.get_concept_id_by_name(\"Lumi\")\n",
    "\n",
    "# Add relations\n",
    "concept_graph.add_relation(eldrin_id, kobuko_id, \"has_relation\", {\"relation_description\": \"Eldrin mentors Kobuko in magic\"})\n",
    "concept_graph.add_relation(lyra_id, kobuko_id, \"has_relation\", {\"relation_description\": \"Lyra is Kobuko's loyal companion\"})\n",
    "concept_graph.add_relation(thorgrim_id, kobuko_id, \"has_relation\", {\"relation_description\": \"Thorgrim joins Kobuko's party as an ally\"})\n",
    "concept_graph.add_relation(elara_id, kobuko_id, \"has_relation\", {\"relation_description\": \"Elara guides Kobuko through the forest\"})\n",
    "concept_graph.add_relation(rognark_id, kobuko_id, \"has_relation\", {\"relation_description\": \"Rognark offers quests to Kobuko\"})\n",
    "concept_graph.add_relation(aria_id, kobuko_id, \"has_relation\", {\"relation_description\": \"Aria travels with Kobuko as a companion\"})\n",
    "concept_graph.add_relation(zephyr_id, kobuko_id, \"has_relation\", {\"relation_description\": \"Zephyr provides information to Kobuko\"})\n",
    "concept_graph.add_relation(naia_id, kobuko_id, \"has_relation\", {\"relation_description\": \"Naia heals Kobuko's wounds\"})\n",
    "concept_graph.add_relation(grom_id, kobuko_id, \"has_relation\", {\"relation_description\": \"Grom trains Kobuko in advanced combat\"})\n",
    "concept_graph.add_relation(lumi_id, kobuko_id, \"has_relation\", {\"relation_description\": \"Lumi appears in Kobuko's dreams\"})\n",
    "\n",
    "concept_graph.add_relation(lyra_id, eldrin_id, \"has_relation\", {\"relation_description\": \"Lyra learns magic from Eldrin\"})\n",
    "concept_graph.add_relation(thorgrim_id, eldrin_id, \"has_relation\", {\"relation_description\": \"Thorgrim is an old friend of Eldrin\"})\n",
    "concept_graph.add_relation(elara_id, lyra_id, \"has_relation\", {\"relation_description\": \"Elara and Lyra are close friends\"})\n",
    "concept_graph.add_relation(aria_id, lyra_id, \"has_relation\", {\"relation_description\": \"Aria and Lyra are sisters\"})\n",
    "concept_graph.add_relation(naia_id, elara_id, \"has_relation\", {\"relation_description\": \"Naia mentors Elara in healing arts\"})\n",
    "concept_graph.add_relation(grom_id, thorgrim_id, \"has_relation\", {\"relation_description\": \"Grom and Thorgrim are former rivals\"})\n",
    "concept_graph.add_relation(rognark_id, grom_id, \"has_relation\", {\"relation_description\": \"Rognark employs Grom for special tasks\"})\n",
    "concept_graph.add_relation(zephyr_id, aria_id, \"has_relation\", {\"relation_description\": \"Zephyr admires Aria's music\"})\n",
    "concept_graph.save_graph()"
   ]
  },
  {
   "cell_type": "code",
   "execution_count": 7,
   "id": "cce26673",
   "metadata": {},
   "outputs": [],
   "source": [
    "# Add event nodes\n",
    "concept_graph.add_concept(\"The Betrayal of Eldrin\", \"event\", {\"event_description\": \"Eldrin, once a trusted mentor to Kobuko, reveals his true intentions and betrays the party, stealing an ancient artifact of immense power.\", \"location\": \"The Arcane Tower\"})\n",
    "concept_graph.add_concept(\"The Forging of Destiny\", \"event\", {\"event_description\": \"Thorgrim, guided by a mysterious prophecy, forges a legendary weapon known as the Sword of Destiny, which is said to hold the power to defeat the great evil that threatens the land.\", \"location\": \"The Dwarven Forge\"})\n",
    "concept_graph.add_concept(\"The Ritual of the Ancients\", \"event\", {\"event_description\": \"Elara discovers an ancient ritual that can summon the spirits of the forest to aid Kobuko and his companions in their quest. However, the ritual comes with great risks and requires a significant sacrifice.\", \"location\": \"The Whispering Woods\"})\n",
    "concept_graph.add_concept(\"The Lost City of Gold\", \"event\", {\"event_description\": \"Rognark reveals the existence of a lost city filled with unimaginable treasures. Kobuko and his party embark on a perilous journey to find the city, facing numerous challenges and traps along the way.\", \"location\": \"The Desert of Mirages\"})\n",
    "concept_graph.add_concept(\"The Siren's Song\", \"event\", {\"event_description\": \"Aria's enchanting music attracts the attention of a powerful siren who seeks to lure the party to their doom. Kobuko and his companions must resist the siren's song and find a way to break her spell.\", \"location\": \"The Enchanted Cove\"})\n",
    "concept_graph.add_concept(\"The Trickster's Gambit\", \"event\", {\"event_description\": \"Zephyr, known for his mischievous nature, leads Kobuko and his friends into a trap set by a cunning trickster. The party must use their wits and skills to outsmart the trickster and escape the trap.\", \"location\": \"The Labyrinth of Illusions\"})\n",
    "concept_graph.add_concept(\"The Plague of Shadows\", \"event\", {\"event_description\": \"A mysterious plague sweeps through the land, turning people into shadow creatures. Naia, with her healing abilities, is the only one who can find a cure. Kobuko and his party must protect her while she searches for the source of the plague.\", \"location\": \"The Forsaken Village\"})\n",
    "concept_graph.add_concept(\"The Tournament of Champions\", \"event\", {\"event_description\": \"Grom invites Kobuko and his companions to participate in a grand tournament where the greatest warriors from across the land compete for glory. The party must prove their worth and emerge victorious.\", \"location\": \"The Coliseum of Heroes\"})\n",
    "concept_graph.add_concept(\"The Dreamscape of Prophecy\", \"event\", {\"event_description\": \"Lumi appears in Kobuko's dreams, revealing a cryptic prophecy about an impending doom. Kobuko must decipher the prophecy and gather his allies to prevent the catastrophe from unfolding.\" , \"location\": \"The Ethereal Plane\"})\n",
    "\n",
    "# Get the concept IDs of the events\n",
    "betrayal_of_eldrin_id = concept_graph.get_concept_id_by_name(\"The Betrayal of Eldrin\")\n",
    "forging_of_destiny_id = concept_graph.get_concept_id_by_name(\"The Forging of Destiny\")\n",
    "ritual_of_ancients_id = concept_graph.get_concept_id_by_name(\"The Ritual of the Ancients\")\n",
    "lost_city_of_gold_id = concept_graph.get_concept_id_by_name(\"The Lost City of Gold\")\n",
    "sirens_song_id = concept_graph.get_concept_id_by_name(\"The Siren's Song\")\n",
    "tricksters_gambit_id = concept_graph.get_concept_id_by_name(\"The Trickster's Gambit\")\n",
    "plague_of_shadows_id = concept_graph.get_concept_id_by_name(\"The Plague of Shadows\")\n",
    "tournament_of_champions_id = concept_graph.get_concept_id_by_name(\"The Tournament of Champions\")\n",
    "dreamscape_of_prophecy_id = concept_graph.get_concept_id_by_name(\"The Dreamscape of Prophecy\")\n",
    "\n",
    "# Add event-NPC relations\n",
    "concept_graph.add_relation(betrayal_of_eldrin_id, kobuko_id, \"person-event\")\n",
    "concept_graph.add_relation(betrayal_of_eldrin_id, eldrin_id, \"person-event\")\n",
    "concept_graph.add_relation(forging_of_destiny_id, kobuko_id, \"person-event\")\n",
    "concept_graph.add_relation(forging_of_destiny_id, thorgrim_id, \"person-event\")\n",
    "concept_graph.add_relation(ritual_of_ancients_id, kobuko_id, \"person-event\")\n",
    "concept_graph.add_relation(ritual_of_ancients_id, elara_id, \"person-event\")\n",
    "concept_graph.add_relation(lost_city_of_gold_id, kobuko_id, \"person-event\")\n",
    "concept_graph.add_relation(lost_city_of_gold_id, rognark_id, \"person-event\")\n",
    "concept_graph.add_relation(sirens_song_id, kobuko_id, \"person-event\")\n",
    "concept_graph.add_relation(sirens_song_id, aria_id, \"person-event\")\n",
    "concept_graph.add_relation(tricksters_gambit_id, kobuko_id, \"person-event\")\n",
    "concept_graph.add_relation(tricksters_gambit_id, zephyr_id, \"person-event\")\n",
    "concept_graph.add_relation(plague_of_shadows_id, kobuko_id, \"person-event\")\n",
    "concept_graph.add_relation(plague_of_shadows_id, naia_id, \"person-event\")\n",
    "concept_graph.add_relation(tournament_of_champions_id, kobuko_id, \"person-event\")\n",
    "concept_graph.add_relation(tournament_of_champions_id, grom_id, \"person-event\")\n",
    "concept_graph.add_relation(dreamscape_of_prophecy_id, kobuko_id, \"person-event\")\n",
    "concept_graph.add_relation(dreamscape_of_prophecy_id, lumi_id, \"person-event\")\n",
    "\n",
    "concept_graph.add_concept(\"The Arcane Tower\", \"location\", {\"location_description\": \"A tall, mysterious tower that pulses with arcane energy.\"})\n",
    "concept_graph.add_concept(\"The Dwarven Forge\", \"location\", {\"location_description\": \"A massive underground forge where the dwarves craft legendary weapons and armor.\"})\n",
    "concept_graph.add_concept(\"The Whispering Woods\", \"location\", {\"location_description\": \"An enchanted forest filled with ancient trees that whisper secrets.\"})\n",
    "concept_graph.add_concept(\"The Desert of Mirages\", \"location\", {\"location_description\": \"A vast desert known for its illusions and hidden treasures.\"})\n",
    "concept_graph.add_concept(\"The Enchanted Cove\", \"location\", {\"location_description\": \"A secluded cove with crystal-clear waters and a mesmerizing aura.\"})\n",
    "concept_graph.add_concept(\"The Labyrinth of Illusions\", \"location\", {\"location_description\": \"A maze-like dungeon filled with deceptive traps and mind-bending illusions.\"})\n",
    "concept_graph.add_concept(\"The Forsaken Village\", \"location\", {\"location_description\": \"A once-thriving village now plagued by a curse of shadows.\"})\n",
    "concept_graph.add_concept(\"The Coliseum of Heroes\", \"location\", {\"location_description\": \"A grand arena where champions from all over the land compete for glory.\"})\n",
    "concept_graph.add_concept(\"The Ethereal Plane\", \"location\", {\"location_description\": \"A mystical realm that exists beyond the physical world, accessible only through dreams.\"})\n",
    "# Get the concept IDs of the locations\n",
    "arcane_tower_id = concept_graph.get_concept_id_by_name(\"The Arcane Tower\")\n",
    "dwarven_forge_id = concept_graph.get_concept_id_by_name(\"The Dwarven Forge\")\n",
    "whispering_woods_id = concept_graph.get_concept_id_by_name(\"The Whispering Woods\")\n",
    "desert_of_mirages_id = concept_graph.get_concept_id_by_name(\"The Desert of Mirages\")\n",
    "enchanted_cove_id = concept_graph.get_concept_id_by_name(\"The Enchanted Cove\")\n",
    "labyrinth_of_illusions_id = concept_graph.get_concept_id_by_name(\"The Labyrinth of Illusions\")\n",
    "forsaken_village_id = concept_graph.get_concept_id_by_name(\"The Forsaken Village\")\n",
    "coliseum_of_heroes_id = concept_graph.get_concept_id_by_name(\"The Coliseum of Heroes\")\n",
    "ethereal_plane_id = concept_graph.get_concept_id_by_name(\"The Ethereal Plane\")\n",
    "\n",
    "# Add location-event relations\n",
    "concept_graph.add_relation(betrayal_of_eldrin_id, arcane_tower_id, \"event-location\")\n",
    "concept_graph.add_relation(forging_of_destiny_id, dwarven_forge_id, \"event-location\")\n",
    "concept_graph.add_relation(ritual_of_ancients_id, whispering_woods_id, \"event-location\")\n",
    "concept_graph.add_relation(lost_city_of_gold_id, desert_of_mirages_id, \"event-location\")\n",
    "concept_graph.add_relation(sirens_song_id, enchanted_cove_id, \"event-location\")\n",
    "concept_graph.add_relation(tricksters_gambit_id, labyrinth_of_illusions_id, \"event-location\")\n",
    "concept_graph.add_relation(plague_of_shadows_id, forsaken_village_id, \"event-location\")\n",
    "concept_graph.add_relation(tournament_of_champions_id, coliseum_of_heroes_id, \"event-location\")\n",
    "concept_graph.add_relation(dreamscape_of_prophecy_id, ethereal_plane_id, \"event-location\")\n",
    "concept_graph.save_graph()"
   ]
  },
  {
   "cell_type": "code",
   "execution_count": 8,
   "id": "c91bdd60",
   "metadata": {
    "scrolled": false
   },
   "outputs": [
    {
     "name": "stdout",
     "output_type": "stream",
     "text": [
      "({'node_id': '05594f454ca94f859500f15417f1221e', 'node_name': 'Thorgrim', 'node_type': 'npc', 'is_editable': True, 'node_attributes': {'gender': 'male', 'age': 'middle-aged', 'npc_description': \"Thorgrim is a mighty dwarven warrior who joins the player's party. He is a master of crafting legendary weapons and armor.\"}, 'image_path': None}, 0.8699921369552612)\n",
      "==============\n",
      "({'node_id': '749d310e99424c12b6477f88a9a35e26', 'node_name': 'The Forging of Destiny', 'node_type': 'event', 'is_editable': True, 'node_attributes': {'event_description': 'Thorgrim, guided by a mysterious prophecy, forges a legendary weapon known as the Sword of Destiny, which is said to hold the power to defeat the great evil that threatens the land.', 'location': 'The Dwarven Forge'}, 'image_path': None}, 0.5213894844055176)\n",
      "==============\n",
      "({'node_id': 'fc4c738c447e443083bcfaeca79c98bb', 'node_name': 'The Dwarven Forge', 'node_type': 'location', 'is_editable': True, 'node_attributes': {'location_description': 'A massive underground forge where the dwarves craft legendary weapons and armor.'}, 'image_path': None}, 0.4457988440990448)\n",
      "==============\n",
      "({'node_id': '1b88807a01994affa42a97f28bfe93c3', 'node_name': 'Grom', 'node_type': 'npc', 'is_editable': True, 'node_attributes': {'gender': 'male', 'age': 'old', 'npc_description': 'Grom is a retired gladiator who now serves as a mentor to aspiring warriors. He can train the player in advanced combat techniques.'}, 'image_path': None}, 0.39026764035224915)\n",
      "==============\n",
      "({'node_id': '1fcbb357de6446b2b209b73c7e9a9f62', 'node_name': 'Rognark', 'node_type': 'npc', 'is_editable': True, 'node_attributes': {'gender': 'male', 'age': 'old', 'npc_description': 'Rognark is an ancient dragon who has taken human form. He offers the player quests and rewards them with rare treasures.'}, 'image_path': None}, 0.3783777356147766)\n",
      "==============\n",
      "({'node_id': '54dd0601f47e4531ac6f39b18ae87e96', 'node_name': 'The Tournament of Champions', 'node_type': 'event', 'is_editable': True, 'node_attributes': {'event_description': 'Grom invites Kobuko and his companions to participate in a grand tournament where the greatest warriors from across the land compete for glory. The party must prove their worth and emerge victorious.', 'location': 'The Coliseum of Heroes'}, 'image_path': None}, 0.33251523971557617)\n",
      "==============\n",
      "({'node_id': '685ff49f9af549e6a003759548ff9799', 'node_name': 'Eldrin', 'node_type': 'npc', 'is_editable': True, 'node_attributes': {'gender': 'male', 'age': 'old', 'npc_description': 'Eldrin is a wise and powerful wizard who guides the player through their quest. He possesses vast knowledge of ancient magic and provides valuable advice.'}, 'image_path': None}, 0.32834452390670776)\n",
      "==============\n",
      "({'node_id': '12a748bfd22b4d048f765b5ca667e622', 'node_name': \"The Trickster's Gambit\", 'node_type': 'event', 'is_editable': True, 'node_attributes': {'event_description': 'Zephyr, known for his mischievous nature, leads Kobuko and his friends into a trap set by a cunning trickster. The party must use their wits and skills to outsmart the trickster and escape the trap.', 'location': 'The Labyrinth of Illusions'}, 'image_path': None}, 0.30963334441185)\n",
      "==============\n",
      "({'node_id': 'c3652ac96b18458db23bfdd33ad9b8ed', 'node_name': 'The Betrayal of Eldrin', 'node_type': 'event', 'is_editable': True, 'node_attributes': {'event_description': 'Eldrin, once a trusted mentor to Kobuko, reveals his true intentions and betrays the party, stealing an ancient artifact of immense power.', 'location': 'The Arcane Tower'}, 'image_path': None}, 0.3044974207878113)\n",
      "==============\n",
      "({'node_id': 'd4c43439f30a4b5b8ee040a6b783e80f', 'node_name': 'The Coliseum of Heroes', 'node_type': 'location', 'is_editable': True, 'node_attributes': {'location_description': 'A grand arena where champions from all over the land compete for glory.'}, 'image_path': None}, 0.2893787920475006)\n",
      "==============\n"
     ]
    }
   ],
   "source": [
    "res_list = concept_graph.query_similar_concepts(\"the Thorgri\"\"m\", top_k = 10)\n",
    "for res in res_list:\n",
    "    print(res)\n",
    "    print(\"==============\")"
   ]
  },
  {
   "cell_type": "code",
   "execution_count": 9,
   "id": "c15eda83",
   "metadata": {
    "scrolled": false
   },
   "outputs": [
    {
     "name": "stdout",
     "output_type": "stream",
     "text": [
      "{'node_id': 'e97b69993c2841bc84b2f9253cad223d', 'node_name': 'kobuko', 'node_type': 'npc', 'is_editable': True, 'node_attributes': {'gender': 'male', 'age': 'young', 'npc_description': 'kobuko is very tanky npc, it can heal himself'}, 'image_path': None}\n",
      "===========\n",
      "{'node_id': '685ff49f9af549e6a003759548ff9799', 'node_name': 'Eldrin', 'node_type': 'npc', 'is_editable': True, 'node_attributes': {'gender': 'male', 'age': 'old', 'npc_description': 'Eldrin is a wise and powerful wizard who guides the player through their quest. He possesses vast knowledge of ancient magic and provides valuable advice.'}, 'image_path': None}\n",
      "===========\n",
      "{'node_id': '1b88807a01994affa42a97f28bfe93c3', 'node_name': 'Grom', 'node_type': 'npc', 'is_editable': True, 'node_attributes': {'gender': 'male', 'age': 'old', 'npc_description': 'Grom is a retired gladiator who now serves as a mentor to aspiring warriors. He can train the player in advanced combat techniques.'}, 'image_path': None}\n",
      "===========\n",
      "{'node_id': '749d310e99424c12b6477f88a9a35e26', 'node_name': 'The Forging of Destiny', 'node_type': 'event', 'is_editable': True, 'node_attributes': {'event_description': 'Thorgrim, guided by a mysterious prophecy, forges a legendary weapon known as the Sword of Destiny, which is said to hold the power to defeat the great evil that threatens the land.', 'location': 'The Dwarven Forge'}, 'image_path': None}\n",
      "===========\n",
      "88888888888888888888888888888888888888666666666666666666666666666666\n",
      "{'source_node_id': '05594f454ca94f859500f15417f1221e', 'target_node_id': 'e97b69993c2841bc84b2f9253cad223d', 'edge_type': 'has_relation', 'is_editable': {'relation_description': \"Thorgrim joins Kobuko's party as an ally\"}, 'relation_id': '05594f454ca94f859500f15417f1221e<->e97b69993c2841bc84b2f9253cad223d', 'source_concept': 'Thorgrim', 'target_concept': 'kobuko'}\n",
      "===========\n",
      "{'source_node_id': '05594f454ca94f859500f15417f1221e', 'target_node_id': '685ff49f9af549e6a003759548ff9799', 'edge_type': 'has_relation', 'is_editable': {'relation_description': 'Thorgrim is an old friend of Eldrin'}, 'relation_id': '05594f454ca94f859500f15417f1221e<->685ff49f9af549e6a003759548ff9799', 'source_concept': 'Thorgrim', 'target_concept': 'Eldrin'}\n",
      "===========\n",
      "{'source_node_id': '1b88807a01994affa42a97f28bfe93c3', 'target_node_id': '05594f454ca94f859500f15417f1221e', 'edge_type': 'has_relation', 'is_editable': {'relation_description': 'Grom and Thorgrim are former rivals'}, 'relation_id': '05594f454ca94f859500f15417f1221e<->1b88807a01994affa42a97f28bfe93c3', 'source_concept': 'Grom', 'target_concept': 'Thorgrim'}\n",
      "===========\n",
      "{'source_node_id': '749d310e99424c12b6477f88a9a35e26', 'target_node_id': '05594f454ca94f859500f15417f1221e', 'edge_type': 'person-event', 'is_editable': True, 'relation_id': '05594f454ca94f859500f15417f1221e<->749d310e99424c12b6477f88a9a35e26', 'source_concept': 'The Forging of Destiny', 'target_concept': 'Thorgrim'}\n",
      "===========\n"
     ]
    }
   ],
   "source": [
    "related_concepts, related_relations= concept_graph.get_related_concepts(res_list[0][0][\"node_id\"], hop = 1)\n",
    "\n",
    "for concept in related_concepts:\n",
    "    print(concept)\n",
    "    print(\"===========\")\n",
    "    \n",
    "print(\"88888888888888888888888888888888888888666666666666666666666666666666\")\n",
    "for rel in related_relations:\n",
    "    print(rel)\n",
    "    print(\"===========\")"
   ]
  },
  {
   "cell_type": "code",
   "execution_count": 10,
   "id": "9498557b",
   "metadata": {},
   "outputs": [],
   "source": [
    "concept_graph.delete_concept(forging_of_destiny_id)"
   ]
  },
  {
   "cell_type": "code",
   "execution_count": 11,
   "id": "5214db17",
   "metadata": {},
   "outputs": [
    {
     "name": "stdout",
     "output_type": "stream",
     "text": [
      "({'node_id': 'fc4c738c447e443083bcfaeca79c98bb', 'node_name': 'The Dwarven Forge', 'node_type': 'location', 'is_editable': True, 'node_attributes': {'location_description': 'A massive underground forge where the dwarves craft legendary weapons and armor.'}, 'image_path': None}, 0.482974112033844)\n",
      "==============\n",
      "({'node_id': '69fe8dfb09844989ae1b82904178768d', 'node_name': 'The Dreamscape of Prophecy', 'node_type': 'event', 'is_editable': True, 'node_attributes': {'event_description': \"Lumi appears in Kobuko's dreams, revealing a cryptic prophecy about an impending doom. Kobuko must decipher the prophecy and gather his allies to prevent the catastrophe from unfolding.\", 'location': 'The Ethereal Plane'}, 'image_path': None}, 0.4675196409225464)\n",
      "==============\n",
      "({'node_id': 'c3652ac96b18458db23bfdd33ad9b8ed', 'node_name': 'The Betrayal of Eldrin', 'node_type': 'event', 'is_editable': True, 'node_attributes': {'event_description': 'Eldrin, once a trusted mentor to Kobuko, reveals his true intentions and betrays the party, stealing an ancient artifact of immense power.', 'location': 'The Arcane Tower'}, 'image_path': None}, 0.43773728609085083)\n",
      "==============\n",
      "({'node_id': '1942e56e58d3444c8a8547d9b76f7adb', 'node_name': 'The Ritual of the Ancients', 'node_type': 'event', 'is_editable': True, 'node_attributes': {'event_description': 'Elara discovers an ancient ritual that can summon the spirits of the forest to aid Kobuko and his companions in their quest. However, the ritual comes with great risks and requires a significant sacrifice.', 'location': 'The Whispering Woods'}, 'image_path': None}, 0.4265637695789337)\n",
      "==============\n",
      "({'node_id': '28c42df9509947a988ad7e518a990b51', 'node_name': 'The Forsaken Village', 'node_type': 'location', 'is_editable': True, 'node_attributes': {'location_description': 'A once-thriving village now plagued by a curse of shadows.'}, 'image_path': None}, 0.399661660194397)\n",
      "==============\n",
      "({'node_id': '54dd0601f47e4531ac6f39b18ae87e96', 'node_name': 'The Tournament of Champions', 'node_type': 'event', 'is_editable': True, 'node_attributes': {'event_description': 'Grom invites Kobuko and his companions to participate in a grand tournament where the greatest warriors from across the land compete for glory. The party must prove their worth and emerge victorious.', 'location': 'The Coliseum of Heroes'}, 'image_path': None}, 0.39425212144851685)\n",
      "==============\n",
      "({'node_id': '84748ba560724b76aedc75f6b668a670', 'node_name': 'The Labyrinth of Illusions', 'node_type': 'location', 'is_editable': True, 'node_attributes': {'location_description': 'A maze-like dungeon filled with deceptive traps and mind-bending illusions.'}, 'image_path': None}, 0.3591765761375427)\n",
      "==============\n",
      "({'node_id': 'bcbee770d37e4dc7bdf804c855b16d1b', 'node_name': 'The Arcane Tower', 'node_type': 'location', 'is_editable': True, 'node_attributes': {'location_description': 'A tall, mysterious tower that pulses with arcane energy.'}, 'image_path': None}, 0.3532284200191498)\n",
      "==============\n",
      "({'node_id': '88476290a9214e06ba3ff5594273fa7a', 'node_name': 'The Plague of Shadows', 'node_type': 'event', 'is_editable': True, 'node_attributes': {'event_description': 'A mysterious plague sweeps through the land, turning people into shadow creatures. Naia, with her healing abilities, is the only one who can find a cure. Kobuko and his party must protect her while she searches for the source of the plague.', 'location': 'The Forsaken Village'}, 'image_path': None}, 0.3368673324584961)\n",
      "==============\n",
      "({'node_id': 'd4c43439f30a4b5b8ee040a6b783e80f', 'node_name': 'The Coliseum of Heroes', 'node_type': 'location', 'is_editable': True, 'node_attributes': {'location_description': 'A grand arena where champions from all over the land compete for glory.'}, 'image_path': None}, 0.33626165986061096)\n",
      "==============\n"
     ]
    }
   ],
   "source": [
    "res_list = concept_graph.query_similar_concepts(\"The Forging of Destiny\", top_k = 10)\n",
    "for res in res_list:\n",
    "    print(res)\n",
    "    print(\"==============\")"
   ]
  },
  {
   "cell_type": "code",
   "execution_count": 12,
   "id": "088a0828",
   "metadata": {},
   "outputs": [
    {
     "name": "stdout",
     "output_type": "stream",
     "text": [
      "{'node_id': 'a5ca0ea0df1848ae8760ada04b99a867', 'node_name': 'The Lost City of Gold', 'node_type': 'event', 'is_editable': True, 'node_attributes': {'event_description': 'Rognark reveals the existence of a lost city filled with unimaginable treasures. Kobuko and his party embark on a perilous journey to find the city, facing numerous challenges and traps along the way.', 'location': 'The Desert of Mirages'}, 'image_path': None}\n",
      "===========\n",
      "{'node_id': 'e97b69993c2841bc84b2f9253cad223d', 'node_name': 'kobuko', 'node_type': 'npc', 'is_editable': True, 'node_attributes': {'gender': 'male', 'age': 'young', 'npc_description': 'kobuko is very tanky npc, it can heal himself'}, 'image_path': None}\n",
      "===========\n",
      "{'node_id': '1fcbb357de6446b2b209b73c7e9a9f62', 'node_name': 'Rognark', 'node_type': 'npc', 'is_editable': True, 'node_attributes': {'gender': 'male', 'age': 'old', 'npc_description': 'Rognark is an ancient dragon who has taken human form. He offers the player quests and rewards them with rare treasures.'}, 'image_path': None}\n",
      "===========\n",
      "88888888888888888888888888888888888888666666666666666666666666666666\n",
      "{'source_node_id': 'a5ca0ea0df1848ae8760ada04b99a867', 'target_node_id': '6af382b407ae4548a7838a2a93519bc5', 'edge_type': 'event-location', 'is_editable': True, 'relation_id': '6af382b407ae4548a7838a2a93519bc5<->a5ca0ea0df1848ae8760ada04b99a867', 'source_concept': 'The Lost City of Gold', 'target_concept': 'The Desert of Mirages'}\n",
      "===========\n",
      "{'source_node_id': 'a5ca0ea0df1848ae8760ada04b99a867', 'target_node_id': 'e97b69993c2841bc84b2f9253cad223d', 'edge_type': 'person-event', 'is_editable': True, 'relation_id': 'a5ca0ea0df1848ae8760ada04b99a867<->e97b69993c2841bc84b2f9253cad223d', 'source_concept': 'The Lost City of Gold', 'target_concept': 'kobuko'}\n",
      "===========\n",
      "{'source_node_id': 'a5ca0ea0df1848ae8760ada04b99a867', 'target_node_id': '1fcbb357de6446b2b209b73c7e9a9f62', 'edge_type': 'person-event', 'is_editable': True, 'relation_id': '1fcbb357de6446b2b209b73c7e9a9f62<->a5ca0ea0df1848ae8760ada04b99a867', 'source_concept': 'The Lost City of Gold', 'target_concept': 'Rognark'}\n",
      "===========\n"
     ]
    }
   ],
   "source": [
    "related_concepts, related_relations= concept_graph.get_related_concepts(desert_of_mirages_id, hop = 2)\n",
    "\n",
    "for concept in related_concepts:\n",
    "    print(concept)\n",
    "    print(\"===========\")\n",
    "    \n",
    "print(\"88888888888888888888888888888888888888666666666666666666666666666666\")\n",
    "for rel in related_relations:\n",
    "    print(rel)\n",
    "    print(\"===========\")\n"
   ]
  },
  {
   "cell_type": "code",
   "execution_count": 13,
   "id": "f598130a",
   "metadata": {},
   "outputs": [],
   "source": [
    "concept_graph.update_concept(dwarven_forge_id, concept_attributes = {\"location_description\": \"a deleted location.\"})"
   ]
  },
  {
   "cell_type": "code",
   "execution_count": 14,
   "id": "d9318c76",
   "metadata": {},
   "outputs": [
    {
     "name": "stdout",
     "output_type": "stream",
     "text": [
      "({'node_id': 'fc4c738c447e443083bcfaeca79c98bb', 'node_name': 'The Dwarven Forge', 'node_type': 'location', 'is_editable': True, 'node_attributes': {'location_description': 'a deleted location.'}, 'image_path': None}, 0.482974112033844)\n",
      "==============\n",
      "({'node_id': '69fe8dfb09844989ae1b82904178768d', 'node_name': 'The Dreamscape of Prophecy', 'node_type': 'event', 'is_editable': True, 'node_attributes': {'event_description': \"Lumi appears in Kobuko's dreams, revealing a cryptic prophecy about an impending doom. Kobuko must decipher the prophecy and gather his allies to prevent the catastrophe from unfolding.\", 'location': 'The Ethereal Plane'}, 'image_path': None}, 0.4675196409225464)\n",
      "==============\n",
      "({'node_id': 'c3652ac96b18458db23bfdd33ad9b8ed', 'node_name': 'The Betrayal of Eldrin', 'node_type': 'event', 'is_editable': True, 'node_attributes': {'event_description': 'Eldrin, once a trusted mentor to Kobuko, reveals his true intentions and betrays the party, stealing an ancient artifact of immense power.', 'location': 'The Arcane Tower'}, 'image_path': None}, 0.43773728609085083)\n",
      "==============\n",
      "({'node_id': '1942e56e58d3444c8a8547d9b76f7adb', 'node_name': 'The Ritual of the Ancients', 'node_type': 'event', 'is_editable': True, 'node_attributes': {'event_description': 'Elara discovers an ancient ritual that can summon the spirits of the forest to aid Kobuko and his companions in their quest. However, the ritual comes with great risks and requires a significant sacrifice.', 'location': 'The Whispering Woods'}, 'image_path': None}, 0.4265637695789337)\n",
      "==============\n",
      "({'node_id': '28c42df9509947a988ad7e518a990b51', 'node_name': 'The Forsaken Village', 'node_type': 'location', 'is_editable': True, 'node_attributes': {'location_description': 'A once-thriving village now plagued by a curse of shadows.'}, 'image_path': None}, 0.399661660194397)\n",
      "==============\n"
     ]
    }
   ],
   "source": [
    "res_list = concept_graph.query_similar_concepts(\"The Forging of Destiny\", top_k = 5)\n",
    "for res in res_list:\n",
    "    print(res)\n",
    "    print(\"==============\")"
   ]
  },
  {
   "cell_type": "code",
   "execution_count": 21,
   "id": "969fbf57",
   "metadata": {},
   "outputs": [],
   "source": [
    "concept_graph.update_relation(zephyr_id, aria_id, relation_type = \"test type\")"
   ]
  },
  {
   "cell_type": "code",
   "execution_count": 22,
   "id": "3527e533",
   "metadata": {},
   "outputs": [
    {
     "name": "stdout",
     "output_type": "stream",
     "text": [
      "{'node_id': 'e97b69993c2841bc84b2f9253cad223d', 'node_name': 'kobuko', 'node_type': 'npc', 'is_editable': True, 'node_attributes': {'gender': 'male', 'age': 'young', 'npc_description': 'kobuko is very tanky npc, it can heal himself'}, 'image_path': None}\n",
      "===========\n",
      "{'node_id': 'db1c240822804762a60223c5c227c1f8', 'node_name': 'Aria', 'node_type': 'npc', 'is_editable': True, 'node_attributes': {'gender': 'female', 'age': 'young', 'npc_description': 'Aria is a skilled bard who travels with the player. Her enchanting music can boost the morale of allies and weaken enemies in battle.'}, 'image_path': None}\n",
      "===========\n",
      "{'node_id': '12a748bfd22b4d048f765b5ca667e622', 'node_name': \"The Trickster's Gambit\", 'node_type': 'event', 'is_editable': True, 'node_attributes': {'event_description': 'Zephyr, known for his mischievous nature, leads Kobuko and his friends into a trap set by a cunning trickster. The party must use their wits and skills to outsmart the trickster and escape the trap.', 'location': 'The Labyrinth of Illusions'}, 'image_path': None}\n",
      "===========\n",
      "88888888888888888888888888888888888888666666666666666666666666666666\n",
      "{'source_node_id': 'c7e0abc1b0dd4eb7a72c106fd3698f9c', 'target_node_id': 'e97b69993c2841bc84b2f9253cad223d', 'edge_type': 'has_relation', 'is_editable': {'relation_description': 'Zephyr provides information to Kobuko'}, 'relation_id': 'c7e0abc1b0dd4eb7a72c106fd3698f9c<->e97b69993c2841bc84b2f9253cad223d', 'source_concept': 'Zephyr', 'target_concept': 'kobuko'}\n",
      "===========\n",
      "{'source_node_id': 'c7e0abc1b0dd4eb7a72c106fd3698f9c', 'target_node_id': 'db1c240822804762a60223c5c227c1f8', 'edge_type': 'test type', 'is_editable': {'relation_description': \"Zephyr admires Aria's music\"}, 'relation_id': 'c7e0abc1b0dd4eb7a72c106fd3698f9c<->db1c240822804762a60223c5c227c1f8', 'source_concept': 'Zephyr', 'target_concept': 'Aria'}\n",
      "===========\n",
      "{'source_node_id': '12a748bfd22b4d048f765b5ca667e622', 'target_node_id': 'c7e0abc1b0dd4eb7a72c106fd3698f9c', 'edge_type': 'person-event', 'is_editable': True, 'relation_id': '12a748bfd22b4d048f765b5ca667e622<->c7e0abc1b0dd4eb7a72c106fd3698f9c', 'source_concept': \"The Trickster's Gambit\", 'target_concept': 'Zephyr'}\n",
      "===========\n"
     ]
    }
   ],
   "source": [
    "related_concepts, related_relations= concept_graph.get_related_concepts(zephyr_id, hop = 1)\n",
    "for concept in related_concepts:\n",
    "    print(concept)\n",
    "    print(\"===========\")\n",
    "    \n",
    "print(\"88888888888888888888888888888888888888666666666666666666666666666666\")\n",
    "for rel in related_relations:\n",
    "    print(rel)\n",
    "    print(\"===========\")"
   ]
  },
  {
   "cell_type": "code",
   "execution_count": 18,
   "id": "7f174999",
   "metadata": {},
   "outputs": [
    {
     "name": "stdout",
     "output_type": "stream",
     "text": [
      "bcbee770d37e4dc7bdf804c855b16d1b\n"
     ]
    }
   ],
   "source": [
    "print(arcane_tower_id)"
   ]
  },
  {
   "cell_type": "code",
   "execution_count": null,
   "id": "c5d6bd79",
   "metadata": {},
   "outputs": [],
   "source": []
  }
 ],
 "metadata": {
  "kernelspec": {
   "display_name": "Python 3 (ipykernel)",
   "language": "python",
   "name": "python3"
  },
  "language_info": {
   "codemirror_mode": {
    "name": "ipython",
    "version": 3
   },
   "file_extension": ".py",
   "mimetype": "text/x-python",
   "name": "python",
   "nbconvert_exporter": "python",
   "pygments_lexer": "ipython3",
   "version": "3.11.4"
  }
 },
 "nbformat": 4,
 "nbformat_minor": 5
}
