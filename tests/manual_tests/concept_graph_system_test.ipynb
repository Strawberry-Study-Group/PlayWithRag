{
 "cells": [
  {
   "cell_type": "code",
   "execution_count": 1,
   "id": "c83be29b",
   "metadata": {},
   "outputs": [
    {
     "name": "stdout",
     "output_type": "stream",
     "text": [
      "Using existing memory core at: sys_test_memory_core\n",
      "Memory core service created successfully!\n"
     ]
    }
   ],
   "source": [
    "import sys\n",
    "import json\n",
    "import os\n",
    "from pathlib import Path\n",
    "\n",
    "sys.path.append(\"../..\")\n",
    "from memory.memory import MemoryCoreFactory\n",
    "from memory.memory_core_schema import MemoryCoreInitializer\n",
    "\n",
    "# Setup test memory core path\n",
    "test_memory_core_path = \"sys_test_memory_core\"\n",
    "\n",
    "# Initialize memory core structure if it doesn't exist\n",
    "if not Path(test_memory_core_path).exists():\n",
    "    print(\"Creating new memory core structure...\")\n",
    "    initializer = MemoryCoreInitializer()\n",
    "    initializer.initialize_memory_core(\n",
    "        test_memory_core_path,\n",
    "        api_key=\"sk-LwKKx8GGd_J11ZqttCmi0Efwv5EP3GAiYkNUUvyQsP0A\",  # Your OpenAI API key\n",
    "        provider=\"local\",\n",
    "        model=\"text-embedding-3-small\",\n",
    "        dim=1536\n",
    "    )\n",
    "    print(f\"Memory core initialized at: {test_memory_core_path}\")\n",
    "else:\n",
    "    print(f\"Using existing memory core at: {test_memory_core_path}\")\n",
    "\n",
    "# Create memory core instance using the new factory\n",
    "memory_core = MemoryCoreFactory.create_from_memory_core(\n",
    "    test_memory_core_path\n",
    ")\n",
    "\n",
    "print(\"Memory core service created successfully!\")"
   ]
  },
  {
   "cell_type": "code",
   "execution_count": 2,
   "id": "10d56fc0",
   "metadata": {},
   "outputs": [
    {
     "name": "stdout",
     "output_type": "stream",
     "text": [
      "Memory core service is ready for use!\n",
      "Memory core type: <class 'memory.memory.MemoryCoreService'>\n"
     ]
    }
   ],
   "source": [
    "# The memory_core variable is now our MemoryCoreService instance\n",
    "# No need to create a new concept_graph variable - we'll use memory_core directly\n",
    "print(\"Memory core service is ready for use!\")\n",
    "print(f\"Memory core type: {type(memory_core)}\")"
   ]
  },
  {
   "cell_type": "code",
   "execution_count": 3,
   "id": "869deaa7",
   "metadata": {
    "scrolled": false
   },
   "outputs": [],
   "source": [
    "memory_core.empty_graph()"
   ]
  },
  {
   "cell_type": "code",
   "execution_count": 4,
   "id": "d35b724c",
   "metadata": {},
   "outputs": [
    {
     "data": {
      "text/plain": [
       "'1e1ee8a014464760b1f52b18a295e195'"
      ]
     },
     "execution_count": 4,
     "metadata": {},
     "output_type": "execute_result"
    }
   ],
   "source": [
    "concept_name = \"kobuko\"\n",
    "concept_type = \"npc\"\n",
    "concept_attributes = {\"gender\": \"male\",\n",
    "                      \"age\": \"young\",\n",
    "                      \"npc_description\": \"kobuko is very tanky npc, it can heal himself\"\n",
    "                      \n",
    "                     }\n",
    "memory_core.add_concept(concept_name, concept_type, concept_attributes)\n",
    "\n",
    "# NPC 1\n",
    "concept_name = \"Eldrin\"\n",
    "concept_type = \"npc\"\n",
    "concept_attributes = {\n",
    "    \"gender\": \"male\",\n",
    "    \"age\": \"old\",\n",
    "    \"npc_description\": \"Eldrin is a wise and powerful wizard who guides the player through their quest. He possesses vast knowledge of ancient magic and provides valuable advice.\"\n",
    "}\n",
    "memory_core.add_concept(concept_name, concept_type, concept_attributes)\n",
    "\n",
    "# NPC 2\n",
    "concept_name = \"Lyra\"\n",
    "concept_type = \"npc\"\n",
    "concept_attributes = {\n",
    "    \"gender\": \"female\",\n",
    "    \"age\": \"young\",\n",
    "    \"npc_description\": \"Lyra is a skilled archer and a loyal companion to the player. She is quick-witted and always ready to lend a helping hand in battle.\"\n",
    "}\n",
    "memory_core.add_concept(concept_name, concept_type, concept_attributes)\n",
    "\n",
    "# NPC 3\n",
    "concept_name = \"Thorgrim\"\n",
    "concept_type = \"npc\"\n",
    "concept_attributes = {\n",
    "    \"gender\": \"male\",\n",
    "    \"age\": \"middle-aged\",\n",
    "    \"npc_description\": \"Thorgrim is a mighty dwarven warrior who joins the player's party. He is a master of crafting legendary weapons and armor.\"\n",
    "}\n",
    "memory_core.add_concept(concept_name, concept_type, concept_attributes)\n",
    "\n",
    "# NPC 4\n",
    "concept_name = \"Elara\"\n",
    "concept_type = \"npc\"\n",
    "concept_attributes = {\n",
    "    \"gender\": \"female\",\n",
    "    \"age\": \"young\",\n",
    "    \"npc_description\": \"Elara is a mystical elf who possesses the ability to communicate with nature. She can summon powerful creatures to aid the player in battle.\"\n",
    "}\n",
    "memory_core.add_concept(concept_name, concept_type, concept_attributes)\n",
    "\n",
    "# NPC 5\n",
    "concept_name = \"Rognark\"\n",
    "concept_type = \"npc\"\n",
    "concept_attributes = {\n",
    "    \"gender\": \"male\",\n",
    "    \"age\": \"old\",\n",
    "    \"npc_description\": \"Rognark is an ancient dragon who has taken human form. He offers the player quests and rewards them with rare treasures.\"\n",
    "}\n",
    "memory_core.add_concept(concept_name, concept_type, concept_attributes)\n",
    "\n",
    "# NPC 6\n",
    "concept_name = \"Aria\"\n",
    "concept_type = \"npc\"\n",
    "concept_attributes = {\n",
    "    \"gender\": \"female\",\n",
    "    \"age\": \"young\",\n",
    "    \"npc_description\": \"Aria is a skilled bard who travels with the player. Her enchanting music can boost the morale of allies and weaken enemies in battle.\"\n",
    "}\n",
    "memory_core.add_concept(concept_name, concept_type, concept_attributes)\n",
    "\n",
    "# NPC 7\n",
    "concept_name = \"Zephyr\"\n",
    "concept_type = \"npc\"\n",
    "concept_attributes = {\n",
    "    \"gender\": \"male\",\n",
    "    \"age\": \"young\",\n",
    "    \"npc_description\": \"Zephyr is a mischievous wind spirit who enjoys playing tricks on the player. He can also provide helpful information and clues.\"\n",
    "}\n",
    "memory_core.add_concept(concept_name, concept_type, concept_attributes)\n",
    "\n",
    "# NPC 8\n",
    "concept_name = \"Naia\"\n",
    "concept_type = \"npc\"\n",
    "concept_attributes = {\n",
    "    \"gender\": \"female\",\n",
    "    \"age\": \"middle-aged\",\n",
    "    \"npc_description\": \"Naia is a wise and caring healer who runs a sanctuary for the wounded. She offers the player healing services and potions.\"\n",
    "}\n",
    "memory_core.add_concept(concept_name, concept_type, concept_attributes)\n",
    "\n",
    "# NPC 9\n",
    "concept_name = \"Grom\"\n",
    "concept_type = \"npc\"\n",
    "concept_attributes = {\n",
    "    \"gender\": \"male\",\n",
    "    \"age\": \"old\",\n",
    "    \"npc_description\": \"Grom is a retired gladiator who now serves as a mentor to aspiring warriors. He can train the player in advanced combat techniques.\"\n",
    "}\n",
    "memory_core.add_concept(concept_name, concept_type, concept_attributes)\n",
    "\n",
    "# NPC 10\n",
    "concept_name = \"Lumi\"\n",
    "concept_type = \"npc\"\n",
    "concept_attributes = {\n",
    "    \"gender\": \"female\",\n",
    "    \"age\": \"young\",\n",
    "    \"npc_description\": \"Lumi is a mysterious figure who appears in the player's dreams, offering cryptic messages and prophecies about their destiny.\"\n",
    "}\n",
    "memory_core.add_concept(concept_name, concept_type, concept_attributes)"
   ]
  },
  {
   "cell_type": "code",
   "execution_count": 18,
   "id": "d93eb8f8",
   "metadata": {},
   "outputs": [],
   "source": [
    "memory_core.save_graph()"
   ]
  },
  {
   "cell_type": "code",
   "execution_count": 6,
   "id": "d624a726",
   "metadata": {},
   "outputs": [],
   "source": [
    "# Get the concept IDs of the NPCs\n",
    "kobuko_id = memory_core.get_concept_id_by_name(\"kobuko\")\n",
    "eldrin_id = memory_core.get_concept_id_by_name(\"Eldrin\")\n",
    "lyra_id = memory_core.get_concept_id_by_name(\"Lyra\")\n",
    "thorgrim_id = memory_core.get_concept_id_by_name(\"Thorgrim\")\n",
    "elara_id = memory_core.get_concept_id_by_name(\"Elara\")\n",
    "rognark_id = memory_core.get_concept_id_by_name(\"Rognark\")\n",
    "aria_id = memory_core.get_concept_id_by_name(\"Aria\")\n",
    "zephyr_id = memory_core.get_concept_id_by_name(\"Zephyr\")\n",
    "naia_id = memory_core.get_concept_id_by_name(\"Naia\")\n",
    "grom_id = memory_core.get_concept_id_by_name(\"Grom\")\n",
    "lumi_id = memory_core.get_concept_id_by_name(\"Lumi\")\n",
    "\n",
    "# Add relations - Updated to use simpler relation format\n",
    "memory_core.add_relation(eldrin_id, kobuko_id, \"mentors\")\n",
    "memory_core.add_relation(lyra_id, kobuko_id, \"companions_with\")\n",
    "memory_core.add_relation(thorgrim_id, kobuko_id, \"allies_with\")\n",
    "memory_core.add_relation(elara_id, kobuko_id, \"guides\")\n",
    "memory_core.add_relation(rognark_id, kobuko_id, \"gives_quests_to\")\n",
    "memory_core.add_relation(aria_id, kobuko_id, \"travels_with\")\n",
    "memory_core.add_relation(zephyr_id, kobuko_id, \"provides_info_to\")\n",
    "memory_core.add_relation(naia_id, kobuko_id, \"heals\")\n",
    "memory_core.add_relation(grom_id, kobuko_id, \"trains\")\n",
    "memory_core.add_relation(lumi_id, kobuko_id, \"appears_in_dreams_of\")\n",
    "\n",
    "memory_core.add_relation(lyra_id, eldrin_id, \"learns_from\")\n",
    "memory_core.add_relation(thorgrim_id, eldrin_id, \"old_friends_with\")\n",
    "memory_core.add_relation(elara_id, lyra_id, \"close_friends_with\")\n",
    "memory_core.add_relation(aria_id, lyra_id, \"sisters_with\")\n",
    "memory_core.add_relation(naia_id, elara_id, \"mentors\")\n",
    "memory_core.add_relation(grom_id, thorgrim_id, \"former_rivals_with\")\n",
    "memory_core.add_relation(rognark_id, grom_id, \"employs\")\n",
    "memory_core.add_relation(zephyr_id, aria_id, \"admires\")\n",
    "memory_core.save_graph()"
   ]
  },
  {
   "cell_type": "code",
   "execution_count": 7,
   "id": "cce26673",
   "metadata": {},
   "outputs": [],
   "source": [
    "# Add event nodes\n",
    "memory_core.add_concept(\"The Betrayal of Eldrin\", \"event\", {\"event_description\": \"Eldrin, once a trusted mentor to Kobuko, reveals his true intentions and betrays the party, stealing an ancient artifact of immense power.\", \"location\": \"The Arcane Tower\"})\n",
    "memory_core.add_concept(\"The Forging of Destiny\", \"event\", {\"event_description\": \"Thorgrim, guided by a mysterious prophecy, forges a legendary weapon known as the Sword of Destiny, which is said to hold the power to defeat the great evil that threatens the land.\", \"location\": \"The Dwarven Forge\"})\n",
    "memory_core.add_concept(\"The Ritual of the Ancients\", \"event\", {\"event_description\": \"Elara discovers an ancient ritual that can summon the spirits of the forest to aid Kobuko and his companions in their quest. However, the ritual comes with great risks and requires a significant sacrifice.\", \"location\": \"The Whispering Woods\"})\n",
    "memory_core.add_concept(\"The Lost City of Gold\", \"event\", {\"event_description\": \"Rognark reveals the existence of a lost city filled with unimaginable treasures. Kobuko and his party embark on a perilous journey to find the city, facing numerous challenges and traps along the way.\", \"location\": \"The Desert of Mirages\"})\n",
    "memory_core.add_concept(\"The Siren's Song\", \"event\", {\"event_description\": \"Aria's enchanting music attracts the attention of a powerful siren who seeks to lure the party to their doom. Kobuko and his companions must resist the siren's song and find a way to break her spell.\", \"location\": \"The Enchanted Cove\"})\n",
    "memory_core.add_concept(\"The Trickster's Gambit\", \"event\", {\"event_description\": \"Zephyr, known for his mischievous nature, leads Kobuko and his friends into a trap set by a cunning trickster. The party must use their wits and skills to outsmart the trickster and escape the trap.\", \"location\": \"The Labyrinth of Illusions\"})\n",
    "memory_core.add_concept(\"The Plague of Shadows\", \"event\", {\"event_description\": \"A mysterious plague sweeps through the land, turning people into shadow creatures. Naia, with her healing abilities, is the only one who can find a cure. Kobuko and his party must protect her while she searches for the source of the plague.\", \"location\": \"The Forsaken Village\"})\n",
    "memory_core.add_concept(\"The Tournament of Champions\", \"event\", {\"event_description\": \"Grom invites Kobuko and his companions to participate in a grand tournament where the greatest warriors from across the land compete for glory. The party must prove their worth and emerge victorious.\", \"location\": \"The Coliseum of Heroes\"})\n",
    "memory_core.add_concept(\"The Dreamscape of Prophecy\", \"event\", {\"event_description\": \"Lumi appears in Kobuko's dreams, revealing a cryptic prophecy about an impending doom. Kobuko must decipher the prophecy and gather his allies to prevent the catastrophe from unfolding.\" , \"location\": \"The Ethereal Plane\"})\n",
    "\n",
    "# Get the concept IDs of the events\n",
    "betrayal_of_eldrin_id = memory_core.get_concept_id_by_name(\"The Betrayal of Eldrin\")\n",
    "forging_of_destiny_id = memory_core.get_concept_id_by_name(\"The Forging of Destiny\")\n",
    "ritual_of_ancients_id = memory_core.get_concept_id_by_name(\"The Ritual of the Ancients\")\n",
    "lost_city_of_gold_id = memory_core.get_concept_id_by_name(\"The Lost City of Gold\")\n",
    "sirens_song_id = memory_core.get_concept_id_by_name(\"The Siren's Song\")\n",
    "tricksters_gambit_id = memory_core.get_concept_id_by_name(\"The Trickster's Gambit\")\n",
    "plague_of_shadows_id = memory_core.get_concept_id_by_name(\"The Plague of Shadows\")\n",
    "tournament_of_champions_id = memory_core.get_concept_id_by_name(\"The Tournament of Champions\")\n",
    "dreamscape_of_prophecy_id = memory_core.get_concept_id_by_name(\"The Dreamscape of Prophecy\")\n",
    "\n",
    "# Add event-NPC relations\n",
    "memory_core.add_relation(betrayal_of_eldrin_id, kobuko_id, \"involves\")\n",
    "memory_core.add_relation(betrayal_of_eldrin_id, eldrin_id, \"involves\")\n",
    "memory_core.add_relation(forging_of_destiny_id, kobuko_id, \"involves\")\n",
    "memory_core.add_relation(forging_of_destiny_id, thorgrim_id, \"involves\")\n",
    "memory_core.add_relation(ritual_of_ancients_id, kobuko_id, \"involves\")\n",
    "memory_core.add_relation(ritual_of_ancients_id, elara_id, \"involves\")\n",
    "memory_core.add_relation(lost_city_of_gold_id, kobuko_id, \"involves\")\n",
    "memory_core.add_relation(lost_city_of_gold_id, rognark_id, \"involves\")\n",
    "memory_core.add_relation(sirens_song_id, kobuko_id, \"involves\")\n",
    "memory_core.add_relation(sirens_song_id, aria_id, \"involves\")\n",
    "memory_core.add_relation(tricksters_gambit_id, kobuko_id, \"involves\")\n",
    "memory_core.add_relation(tricksters_gambit_id, zephyr_id, \"involves\")\n",
    "memory_core.add_relation(plague_of_shadows_id, kobuko_id, \"involves\")\n",
    "memory_core.add_relation(plague_of_shadows_id, naia_id, \"involves\")\n",
    "memory_core.add_relation(tournament_of_champions_id, kobuko_id, \"involves\")\n",
    "memory_core.add_relation(tournament_of_champions_id, grom_id, \"involves\")\n",
    "memory_core.add_relation(dreamscape_of_prophecy_id, kobuko_id, \"involves\")\n",
    "memory_core.add_relation(dreamscape_of_prophecy_id, lumi_id, \"involves\")\n",
    "\n",
    "memory_core.add_concept(\"The Arcane Tower\", \"location\", {\"location_description\": \"A tall, mysterious tower that pulses with arcane energy.\"})\n",
    "memory_core.add_concept(\"The Dwarven Forge\", \"location\", {\"location_description\": \"A massive underground forge where the dwarves craft legendary weapons and armor.\"})\n",
    "memory_core.add_concept(\"The Whispering Woods\", \"location\", {\"location_description\": \"An enchanted forest filled with ancient trees that whisper secrets.\"})\n",
    "memory_core.add_concept(\"The Desert of Mirages\", \"location\", {\"location_description\": \"A vast desert known for its illusions and hidden treasures.\"})\n",
    "memory_core.add_concept(\"The Enchanted Cove\", \"location\", {\"location_description\": \"A secluded cove with crystal-clear waters and a mesmerizing aura.\"})\n",
    "memory_core.add_concept(\"The Labyrinth of Illusions\", \"location\", {\"location_description\": \"A maze-like dungeon filled with deceptive traps and mind-bending illusions.\"})\n",
    "memory_core.add_concept(\"The Forsaken Village\", \"location\", {\"location_description\": \"A once-thriving village now plagued by a curse of shadows.\"})\n",
    "memory_core.add_concept(\"The Coliseum of Heroes\", \"location\", {\"location_description\": \"A grand arena where champions from all over the land compete for glory.\"})\n",
    "memory_core.add_concept(\"The Ethereal Plane\", \"location\", {\"location_description\": \"A mystical realm that exists beyond the physical world, accessible only through dreams.\"})\n",
    "\n",
    "# Get the concept IDs of the locations\n",
    "arcane_tower_id = memory_core.get_concept_id_by_name(\"The Arcane Tower\")\n",
    "dwarven_forge_id = memory_core.get_concept_id_by_name(\"The Dwarven Forge\")\n",
    "whispering_woods_id = memory_core.get_concept_id_by_name(\"The Whispering Woods\")\n",
    "desert_of_mirages_id = memory_core.get_concept_id_by_name(\"The Desert of Mirages\")\n",
    "enchanted_cove_id = memory_core.get_concept_id_by_name(\"The Enchanted Cove\")\n",
    "labyrinth_of_illusions_id = memory_core.get_concept_id_by_name(\"The Labyrinth of Illusions\")\n",
    "forsaken_village_id = memory_core.get_concept_id_by_name(\"The Forsaken Village\")\n",
    "coliseum_of_heroes_id = memory_core.get_concept_id_by_name(\"The Coliseum of Heroes\")\n",
    "ethereal_plane_id = memory_core.get_concept_id_by_name(\"The Ethereal Plane\")\n",
    "\n",
    "# Add location-event relations\n",
    "memory_core.add_relation(betrayal_of_eldrin_id, arcane_tower_id, \"occurs_at\")\n",
    "memory_core.add_relation(forging_of_destiny_id, dwarven_forge_id, \"occurs_at\")\n",
    "memory_core.add_relation(ritual_of_ancients_id, whispering_woods_id, \"occurs_at\")\n",
    "memory_core.add_relation(lost_city_of_gold_id, desert_of_mirages_id, \"occurs_at\")\n",
    "memory_core.add_relation(sirens_song_id, enchanted_cove_id, \"occurs_at\")\n",
    "memory_core.add_relation(tricksters_gambit_id, labyrinth_of_illusions_id, \"occurs_at\")\n",
    "memory_core.add_relation(plague_of_shadows_id, forsaken_village_id, \"occurs_at\")\n",
    "memory_core.add_relation(tournament_of_champions_id, coliseum_of_heroes_id, \"occurs_at\")\n",
    "memory_core.add_relation(dreamscape_of_prophecy_id, ethereal_plane_id, \"occurs_at\")\n",
    "memory_core.save_graph()"
   ]
  },
  {
   "cell_type": "code",
   "execution_count": 8,
   "id": "c91bdd60",
   "metadata": {
    "scrolled": false
   },
   "outputs": [
    {
     "name": "stdout",
     "output_type": "stream",
     "text": [
      "({'node_id': '1ee8903986114a1895a60af46bd11222', 'node_name': 'Thorgrim', 'node_type': 'npc', 'node_attributes': {'gender': 'male', 'age': 'middle-aged', 'npc_description': \"Thorgrim is a mighty dwarven warrior who joins the player's party. He is a master of crafting legendary weapons and armor.\"}, 'is_editable': True, 'refs': {'ref_img': [], 'ref_audio': [], 'ref_video': [], 'ref_docs': []}, 'image_path': None}, 0.8700962066650391)\n",
      "==============\n",
      "({'node_id': 'bb0cafa225b44f868fd67b3f43223f32', 'node_name': 'The Forging of Destiny', 'node_type': 'event', 'node_attributes': {'event_description': 'Thorgrim, guided by a mysterious prophecy, forges a legendary weapon known as the Sword of Destiny, which is said to hold the power to defeat the great evil that threatens the land.', 'location': 'The Dwarven Forge'}, 'is_editable': True, 'refs': {'ref_img': [], 'ref_audio': [], 'ref_video': [], 'ref_docs': []}, 'image_path': None}, 0.5214658379554749)\n",
      "==============\n",
      "({'node_id': 'd934c53328124d609797f6809d44f765', 'node_name': 'The Dwarven Forge', 'node_type': 'location', 'node_attributes': {'location_description': 'A massive underground forge where the dwarves craft legendary weapons and armor.'}, 'is_editable': True, 'refs': {'ref_img': [], 'ref_audio': [], 'ref_video': [], 'ref_docs': []}, 'image_path': None}, 0.4458300471305847)\n",
      "==============\n",
      "({'node_id': '7ce64c4ff360409bbfe73499f864b85c', 'node_name': 'Grom', 'node_type': 'npc', 'node_attributes': {'gender': 'male', 'age': 'old', 'npc_description': 'Grom is a retired gladiator who now serves as a mentor to aspiring warriors. He can train the player in advanced combat techniques.'}, 'is_editable': True, 'refs': {'ref_img': [], 'ref_audio': [], 'ref_video': [], 'ref_docs': []}, 'image_path': None}, 0.39023080468177795)\n",
      "==============\n",
      "({'node_id': 'be0de0f2c8fa4f3693aebd111aa52b6c', 'node_name': 'Rognark', 'node_type': 'npc', 'node_attributes': {'gender': 'male', 'age': 'old', 'npc_description': 'Rognark is an ancient dragon who has taken human form. He offers the player quests and rewards them with rare treasures.'}, 'is_editable': True, 'refs': {'ref_img': [], 'ref_audio': [], 'ref_video': [], 'ref_docs': []}, 'image_path': None}, 0.3783692717552185)\n",
      "==============\n",
      "({'node_id': '4f064ba1d619489fbcaf780aa3d3b5bd', 'node_name': 'The Tournament of Champions', 'node_type': 'event', 'node_attributes': {'event_description': 'Grom invites Kobuko and his companions to participate in a grand tournament where the greatest warriors from across the land compete for glory. The party must prove their worth and emerge victorious.', 'location': 'The Coliseum of Heroes'}, 'is_editable': True, 'refs': {'ref_img': [], 'ref_audio': [], 'ref_video': [], 'ref_docs': []}, 'image_path': None}, 0.33225733041763306)\n",
      "==============\n",
      "({'node_id': '9e7ea2abbbff48ff8ffea72047529377', 'node_name': 'Eldrin', 'node_type': 'npc', 'node_attributes': {'gender': 'male', 'age': 'old', 'npc_description': 'Eldrin is a wise and powerful wizard who guides the player through their quest. He possesses vast knowledge of ancient magic and provides valuable advice.'}, 'is_editable': True, 'refs': {'ref_img': [], 'ref_audio': [], 'ref_video': [], 'ref_docs': []}, 'image_path': None}, 0.32832151651382446)\n",
      "==============\n",
      "({'node_id': 'ac90dd0689124408965950146d94a975', 'node_name': \"The Trickster's Gambit\", 'node_type': 'event', 'node_attributes': {'event_description': 'Zephyr, known for his mischievous nature, leads Kobuko and his friends into a trap set by a cunning trickster. The party must use their wits and skills to outsmart the trickster and escape the trap.', 'location': 'The Labyrinth of Illusions'}, 'is_editable': True, 'refs': {'ref_img': [], 'ref_audio': [], 'ref_video': [], 'ref_docs': []}, 'image_path': None}, 0.3095817565917969)\n",
      "==============\n",
      "({'node_id': '8ca3549aefb1435b919aa391e575bc90', 'node_name': 'The Betrayal of Eldrin', 'node_type': 'event', 'node_attributes': {'event_description': 'Eldrin, once a trusted mentor to Kobuko, reveals his true intentions and betrays the party, stealing an ancient artifact of immense power.', 'location': 'The Arcane Tower'}, 'is_editable': True, 'refs': {'ref_img': [], 'ref_audio': [], 'ref_video': [], 'ref_docs': []}, 'image_path': None}, 0.30445927381515503)\n",
      "==============\n",
      "({'node_id': '3d86c606af7747b3bee9a93125575756', 'node_name': 'The Coliseum of Heroes', 'node_type': 'location', 'node_attributes': {'location_description': 'A grand arena where champions from all over the land compete for glory.'}, 'is_editable': True, 'refs': {'ref_img': [], 'ref_audio': [], 'ref_video': [], 'ref_docs': []}, 'image_path': None}, 0.28948700428009033)\n",
      "==============\n"
     ]
    }
   ],
   "source": [
    "res_list = memory_core.query_similar_concepts(\"the Thorgrim\", top_k = 10)\n",
    "for res in res_list:\n",
    "    print(res)\n",
    "    print(\"==============\")"
   ]
  },
  {
   "cell_type": "code",
   "execution_count": 9,
   "id": "c15eda83",
   "metadata": {
    "scrolled": false
   },
   "outputs": [
    {
     "name": "stdout",
     "output_type": "stream",
     "text": [
      "{'node_id': '6a670e20e9194a959689da89e10b8cd6', 'node_name': 'kobuko', 'node_type': 'npc', 'node_attributes': {'gender': 'male', 'age': 'young', 'npc_description': 'kobuko is very tanky npc, it can heal himself'}, 'is_editable': True, 'refs': {'ref_img': [], 'ref_audio': [], 'ref_video': [], 'ref_docs': []}, 'image_path': None}\n",
      "===========\n",
      "{'node_id': '9e7ea2abbbff48ff8ffea72047529377', 'node_name': 'Eldrin', 'node_type': 'npc', 'node_attributes': {'gender': 'male', 'age': 'old', 'npc_description': 'Eldrin is a wise and powerful wizard who guides the player through their quest. He possesses vast knowledge of ancient magic and provides valuable advice.'}, 'is_editable': True, 'refs': {'ref_img': [], 'ref_audio': [], 'ref_video': [], 'ref_docs': []}, 'image_path': None}\n",
      "===========\n",
      "{'node_id': '7ce64c4ff360409bbfe73499f864b85c', 'node_name': 'Grom', 'node_type': 'npc', 'node_attributes': {'gender': 'male', 'age': 'old', 'npc_description': 'Grom is a retired gladiator who now serves as a mentor to aspiring warriors. He can train the player in advanced combat techniques.'}, 'is_editable': True, 'refs': {'ref_img': [], 'ref_audio': [], 'ref_video': [], 'ref_docs': []}, 'image_path': None}\n",
      "===========\n",
      "{'node_id': 'bb0cafa225b44f868fd67b3f43223f32', 'node_name': 'The Forging of Destiny', 'node_type': 'event', 'node_attributes': {'event_description': 'Thorgrim, guided by a mysterious prophecy, forges a legendary weapon known as the Sword of Destiny, which is said to hold the power to defeat the great evil that threatens the land.', 'location': 'The Dwarven Forge'}, 'is_editable': True, 'refs': {'ref_img': [], 'ref_audio': [], 'ref_video': [], 'ref_docs': []}, 'image_path': None}\n",
      "===========\n",
      "88888888888888888888888888888888888888666666666666666666666666666666\n",
      "{'source_node_id': '1ee8903986114a1895a60af46bd11222', 'target_node_id': '6a670e20e9194a959689da89e10b8cd6', 'edge_type': 'allies_with', 'is_editable': True, 'relation_id': '1ee8903986114a1895a60af46bd11222<->6a670e20e9194a959689da89e10b8cd6', 'source_concept': 'Thorgrim', 'target_concept': 'kobuko'}\n",
      "===========\n",
      "{'source_node_id': '1ee8903986114a1895a60af46bd11222', 'target_node_id': '9e7ea2abbbff48ff8ffea72047529377', 'edge_type': 'old_friends_with', 'is_editable': True, 'relation_id': '1ee8903986114a1895a60af46bd11222<->9e7ea2abbbff48ff8ffea72047529377', 'source_concept': 'Thorgrim', 'target_concept': 'Eldrin'}\n",
      "===========\n",
      "{'source_node_id': '7ce64c4ff360409bbfe73499f864b85c', 'target_node_id': '1ee8903986114a1895a60af46bd11222', 'edge_type': 'former_rivals_with', 'is_editable': True, 'relation_id': '1ee8903986114a1895a60af46bd11222<->7ce64c4ff360409bbfe73499f864b85c', 'source_concept': 'Grom', 'target_concept': 'Thorgrim'}\n",
      "===========\n",
      "{'source_node_id': 'bb0cafa225b44f868fd67b3f43223f32', 'target_node_id': '1ee8903986114a1895a60af46bd11222', 'edge_type': 'involves', 'is_editable': True, 'relation_id': '1ee8903986114a1895a60af46bd11222<->bb0cafa225b44f868fd67b3f43223f32', 'source_concept': 'The Forging of Destiny', 'target_concept': 'Thorgrim'}\n",
      "===========\n"
     ]
    }
   ],
   "source": [
    "related_concepts, related_relations= memory_core.get_related_concepts(res_list[0][0][\"node_id\"], hop = 1)\n",
    "\n",
    "for concept in related_concepts:\n",
    "    print(concept)\n",
    "    print(\"===========\")\n",
    "    \n",
    "print(\"88888888888888888888888888888888888888666666666666666666666666666666\")\n",
    "for rel in related_relations:\n",
    "    print(rel)\n",
    "    print(\"===========\")"
   ]
  },
  {
   "cell_type": "code",
   "execution_count": 10,
   "id": "9498557b",
   "metadata": {},
   "outputs": [],
   "source": [
    "memory_core.delete_concept(forging_of_destiny_id)"
   ]
  },
  {
   "cell_type": "code",
   "execution_count": 11,
   "id": "5214db17",
   "metadata": {},
   "outputs": [
    {
     "name": "stdout",
     "output_type": "stream",
     "text": [
      "({'node_id': 'd934c53328124d609797f6809d44f765', 'node_name': 'The Dwarven Forge', 'node_type': 'location', 'node_attributes': {'location_description': 'A massive underground forge where the dwarves craft legendary weapons and armor.'}, 'is_editable': True, 'refs': {'ref_img': [], 'ref_audio': [], 'ref_video': [], 'ref_docs': []}, 'image_path': None}, 0.4829310178756714)\n",
      "==============\n",
      "({'node_id': 'd80c2424fdfb402b8474305e4ca0f05d', 'node_name': 'The Dreamscape of Prophecy', 'node_type': 'event', 'node_attributes': {'event_description': \"Lumi appears in Kobuko's dreams, revealing a cryptic prophecy about an impending doom. Kobuko must decipher the prophecy and gather his allies to prevent the catastrophe from unfolding.\", 'location': 'The Ethereal Plane'}, 'is_editable': True, 'refs': {'ref_img': [], 'ref_audio': [], 'ref_video': [], 'ref_docs': []}, 'image_path': None}, 0.4676467180252075)\n",
      "==============\n",
      "({'node_id': '8ca3549aefb1435b919aa391e575bc90', 'node_name': 'The Betrayal of Eldrin', 'node_type': 'event', 'node_attributes': {'event_description': 'Eldrin, once a trusted mentor to Kobuko, reveals his true intentions and betrays the party, stealing an ancient artifact of immense power.', 'location': 'The Arcane Tower'}, 'is_editable': True, 'refs': {'ref_img': [], 'ref_audio': [], 'ref_video': [], 'ref_docs': []}, 'image_path': None}, 0.4378536641597748)\n",
      "==============\n",
      "({'node_id': 'e0c226fa02c040829393f898c566ba16', 'node_name': 'The Ritual of the Ancients', 'node_type': 'event', 'node_attributes': {'event_description': 'Elara discovers an ancient ritual that can summon the spirits of the forest to aid Kobuko and his companions in their quest. However, the ritual comes with great risks and requires a significant sacrifice.', 'location': 'The Whispering Woods'}, 'is_editable': True, 'refs': {'ref_img': [], 'ref_audio': [], 'ref_video': [], 'ref_docs': []}, 'image_path': None}, 0.42653390765190125)\n",
      "==============\n",
      "({'node_id': 'd317a81808634cab8b3af574e3439208', 'node_name': 'The Forsaken Village', 'node_type': 'location', 'node_attributes': {'location_description': 'A once-thriving village now plagued by a curse of shadows.'}, 'is_editable': True, 'refs': {'ref_img': [], 'ref_audio': [], 'ref_video': [], 'ref_docs': []}, 'image_path': None}, 0.39984989166259766)\n",
      "==============\n",
      "({'node_id': '4f064ba1d619489fbcaf780aa3d3b5bd', 'node_name': 'The Tournament of Champions', 'node_type': 'event', 'node_attributes': {'event_description': 'Grom invites Kobuko and his companions to participate in a grand tournament where the greatest warriors from across the land compete for glory. The party must prove their worth and emerge victorious.', 'location': 'The Coliseum of Heroes'}, 'is_editable': True, 'refs': {'ref_img': [], 'ref_audio': [], 'ref_video': [], 'ref_docs': []}, 'image_path': None}, 0.3943149149417877)\n",
      "==============\n",
      "({'node_id': '3066a14dab9d44c399f205688a6f716a', 'node_name': 'The Labyrinth of Illusions', 'node_type': 'location', 'node_attributes': {'location_description': 'A maze-like dungeon filled with deceptive traps and mind-bending illusions.'}, 'is_editable': True, 'refs': {'ref_img': [], 'ref_audio': [], 'ref_video': [], 'ref_docs': []}, 'image_path': None}, 0.35915178060531616)\n",
      "==============\n",
      "({'node_id': 'decb192a76f54c7fa81908ca17438722', 'node_name': 'The Arcane Tower', 'node_type': 'location', 'node_attributes': {'location_description': 'A tall, mysterious tower that pulses with arcane energy.'}, 'is_editable': True, 'refs': {'ref_img': [], 'ref_audio': [], 'ref_video': [], 'ref_docs': []}, 'image_path': None}, 0.35322698950767517)\n",
      "==============\n",
      "({'node_id': 'f342ac692d3d4091be4c9135799b6df0', 'node_name': 'The Plague of Shadows', 'node_type': 'event', 'node_attributes': {'event_description': 'A mysterious plague sweeps through the land, turning people into shadow creatures. Naia, with her healing abilities, is the only one who can find a cure. Kobuko and his party must protect her while she searches for the source of the plague.', 'location': 'The Forsaken Village'}, 'is_editable': True, 'refs': {'ref_img': [], 'ref_audio': [], 'ref_video': [], 'ref_docs': []}, 'image_path': None}, 0.3370128273963928)\n",
      "==============\n",
      "({'node_id': '3d86c606af7747b3bee9a93125575756', 'node_name': 'The Coliseum of Heroes', 'node_type': 'location', 'node_attributes': {'location_description': 'A grand arena where champions from all over the land compete for glory.'}, 'is_editable': True, 'refs': {'ref_img': [], 'ref_audio': [], 'ref_video': [], 'ref_docs': []}, 'image_path': None}, 0.33634018898010254)\n",
      "==============\n"
     ]
    }
   ],
   "source": [
    "res_list = memory_core.query_similar_concepts(\"The Forging of Destiny\", top_k = 10)\n",
    "for res in res_list:\n",
    "    print(res)\n",
    "    print(\"==============\")"
   ]
  },
  {
   "cell_type": "code",
   "execution_count": 12,
   "id": "088a0828",
   "metadata": {},
   "outputs": [
    {
     "name": "stdout",
     "output_type": "stream",
     "text": [
      "{'node_id': 'bbd62cc503394d6590280288b1519c74', 'node_name': 'The Lost City of Gold', 'node_type': 'event', 'node_attributes': {'event_description': 'Rognark reveals the existence of a lost city filled with unimaginable treasures. Kobuko and his party embark on a perilous journey to find the city, facing numerous challenges and traps along the way.', 'location': 'The Desert of Mirages'}, 'is_editable': True, 'refs': {'ref_img': [], 'ref_audio': [], 'ref_video': [], 'ref_docs': []}, 'image_path': None}\n",
      "===========\n",
      "{'node_id': '6a670e20e9194a959689da89e10b8cd6', 'node_name': 'kobuko', 'node_type': 'npc', 'node_attributes': {'gender': 'male', 'age': 'young', 'npc_description': 'kobuko is very tanky npc, it can heal himself'}, 'is_editable': True, 'refs': {'ref_img': [], 'ref_audio': [], 'ref_video': [], 'ref_docs': []}, 'image_path': None}\n",
      "===========\n",
      "{'node_id': 'be0de0f2c8fa4f3693aebd111aa52b6c', 'node_name': 'Rognark', 'node_type': 'npc', 'node_attributes': {'gender': 'male', 'age': 'old', 'npc_description': 'Rognark is an ancient dragon who has taken human form. He offers the player quests and rewards them with rare treasures.'}, 'is_editable': True, 'refs': {'ref_img': [], 'ref_audio': [], 'ref_video': [], 'ref_docs': []}, 'image_path': None}\n",
      "===========\n",
      "88888888888888888888888888888888888888666666666666666666666666666666\n",
      "{'source_node_id': 'bbd62cc503394d6590280288b1519c74', 'target_node_id': '8f8bde8ebefe468383cbfcd12c937d3d', 'edge_type': 'occurs_at', 'is_editable': True, 'relation_id': '8f8bde8ebefe468383cbfcd12c937d3d<->bbd62cc503394d6590280288b1519c74', 'source_concept': 'The Lost City of Gold', 'target_concept': 'The Desert of Mirages'}\n",
      "===========\n",
      "{'source_node_id': 'bbd62cc503394d6590280288b1519c74', 'target_node_id': '6a670e20e9194a959689da89e10b8cd6', 'edge_type': 'involves', 'is_editable': True, 'relation_id': '6a670e20e9194a959689da89e10b8cd6<->bbd62cc503394d6590280288b1519c74', 'source_concept': 'The Lost City of Gold', 'target_concept': 'kobuko'}\n",
      "===========\n",
      "{'source_node_id': 'bbd62cc503394d6590280288b1519c74', 'target_node_id': 'be0de0f2c8fa4f3693aebd111aa52b6c', 'edge_type': 'involves', 'is_editable': True, 'relation_id': 'bbd62cc503394d6590280288b1519c74<->be0de0f2c8fa4f3693aebd111aa52b6c', 'source_concept': 'The Lost City of Gold', 'target_concept': 'Rognark'}\n",
      "===========\n"
     ]
    }
   ],
   "source": [
    "related_concepts, related_relations= memory_core.get_related_concepts(desert_of_mirages_id, hop = 2)\n",
    "\n",
    "for concept in related_concepts:\n",
    "    print(concept)\n",
    "    print(\"===========\")\n",
    "    \n",
    "print(\"88888888888888888888888888888888888888666666666666666666666666666666\")\n",
    "for rel in related_relations:\n",
    "    print(rel)\n",
    "    print(\"===========\")"
   ]
  },
  {
   "cell_type": "code",
   "execution_count": 13,
   "id": "f598130a",
   "metadata": {},
   "outputs": [],
   "source": [
    "memory_core.update_concept(dwarven_forge_id, concept_attributes = {\"location_description\": \"a deleted location.\"})"
   ]
  },
  {
   "cell_type": "code",
   "execution_count": 14,
   "id": "d9318c76",
   "metadata": {},
   "outputs": [
    {
     "name": "stdout",
     "output_type": "stream",
     "text": [
      "({'node_id': 'd934c53328124d609797f6809d44f765', 'node_name': 'The Dwarven Forge', 'node_type': 'location', 'node_attributes': {'location_description': 'a deleted location.'}, 'is_editable': True, 'refs': {'ref_img': [], 'ref_audio': [], 'ref_video': [], 'ref_docs': []}, 'image_path': None}, 0.48294851183891296)\n",
      "==============\n",
      "({'node_id': 'd80c2424fdfb402b8474305e4ca0f05d', 'node_name': 'The Dreamscape of Prophecy', 'node_type': 'event', 'node_attributes': {'event_description': \"Lumi appears in Kobuko's dreams, revealing a cryptic prophecy about an impending doom. Kobuko must decipher the prophecy and gather his allies to prevent the catastrophe from unfolding.\", 'location': 'The Ethereal Plane'}, 'is_editable': True, 'refs': {'ref_img': [], 'ref_audio': [], 'ref_video': [], 'ref_docs': []}, 'image_path': None}, 0.4675845503807068)\n",
      "==============\n",
      "({'node_id': '8ca3549aefb1435b919aa391e575bc90', 'node_name': 'The Betrayal of Eldrin', 'node_type': 'event', 'node_attributes': {'event_description': 'Eldrin, once a trusted mentor to Kobuko, reveals his true intentions and betrays the party, stealing an ancient artifact of immense power.', 'location': 'The Arcane Tower'}, 'is_editable': True, 'refs': {'ref_img': [], 'ref_audio': [], 'ref_video': [], 'ref_docs': []}, 'image_path': None}, 0.43779608607292175)\n",
      "==============\n",
      "({'node_id': 'e0c226fa02c040829393f898c566ba16', 'node_name': 'The Ritual of the Ancients', 'node_type': 'event', 'node_attributes': {'event_description': 'Elara discovers an ancient ritual that can summon the spirits of the forest to aid Kobuko and his companions in their quest. However, the ritual comes with great risks and requires a significant sacrifice.', 'location': 'The Whispering Woods'}, 'is_editable': True, 'refs': {'ref_img': [], 'ref_audio': [], 'ref_video': [], 'ref_docs': []}, 'image_path': None}, 0.4265194535255432)\n",
      "==============\n",
      "({'node_id': 'd317a81808634cab8b3af574e3439208', 'node_name': 'The Forsaken Village', 'node_type': 'location', 'node_attributes': {'location_description': 'A once-thriving village now plagued by a curse of shadows.'}, 'is_editable': True, 'refs': {'ref_img': [], 'ref_audio': [], 'ref_video': [], 'ref_docs': []}, 'image_path': None}, 0.3998183012008667)\n",
      "==============\n"
     ]
    }
   ],
   "source": [
    "res_list = memory_core.query_similar_concepts(\"The Forging of Destiny\", top_k = 5)\n",
    "for res in res_list:\n",
    "    print(res)\n",
    "    print(\"==============\")"
   ]
  },
  {
   "cell_type": "code",
   "execution_count": 15,
   "id": "969fbf57",
   "metadata": {},
   "outputs": [],
   "source": [
    "memory_core.update_relation(zephyr_id, aria_id, relation_type = \"test_type\")"
   ]
  },
  {
   "cell_type": "code",
   "execution_count": 16,
   "id": "3527e533",
   "metadata": {},
   "outputs": [
    {
     "name": "stdout",
     "output_type": "stream",
     "text": [
      "{'node_id': '6a670e20e9194a959689da89e10b8cd6', 'node_name': 'kobuko', 'node_type': 'npc', 'node_attributes': {'gender': 'male', 'age': 'young', 'npc_description': 'kobuko is very tanky npc, it can heal himself'}, 'is_editable': True, 'refs': {'ref_img': [], 'ref_audio': [], 'ref_video': [], 'ref_docs': []}, 'image_path': None}\n",
      "===========\n",
      "{'node_id': 'b9bc58b8e9d44a2491e4145c06eae31b', 'node_name': 'Aria', 'node_type': 'npc', 'node_attributes': {'gender': 'female', 'age': 'young', 'npc_description': 'Aria is a skilled bard who travels with the player. Her enchanting music can boost the morale of allies and weaken enemies in battle.'}, 'is_editable': True, 'refs': {'ref_img': [], 'ref_audio': [], 'ref_video': [], 'ref_docs': []}, 'image_path': None}\n",
      "===========\n",
      "{'node_id': 'ac90dd0689124408965950146d94a975', 'node_name': \"The Trickster's Gambit\", 'node_type': 'event', 'node_attributes': {'event_description': 'Zephyr, known for his mischievous nature, leads Kobuko and his friends into a trap set by a cunning trickster. The party must use their wits and skills to outsmart the trickster and escape the trap.', 'location': 'The Labyrinth of Illusions'}, 'is_editable': True, 'refs': {'ref_img': [], 'ref_audio': [], 'ref_video': [], 'ref_docs': []}, 'image_path': None}\n",
      "===========\n",
      "88888888888888888888888888888888888888666666666666666666666666666666\n",
      "{'source_node_id': 'ce98aaf5e22b475daf7c9ad0b191c285', 'target_node_id': '6a670e20e9194a959689da89e10b8cd6', 'edge_type': 'provides_info_to', 'is_editable': True, 'relation_id': '6a670e20e9194a959689da89e10b8cd6<->ce98aaf5e22b475daf7c9ad0b191c285', 'source_concept': 'Zephyr', 'target_concept': 'kobuko'}\n",
      "===========\n",
      "{'source_node_id': 'ce98aaf5e22b475daf7c9ad0b191c285', 'target_node_id': 'b9bc58b8e9d44a2491e4145c06eae31b', 'edge_type': 'test_type', 'is_editable': True, 'relation_id': 'b9bc58b8e9d44a2491e4145c06eae31b<->ce98aaf5e22b475daf7c9ad0b191c285', 'source_concept': 'Zephyr', 'target_concept': 'Aria'}\n",
      "===========\n",
      "{'source_node_id': 'ac90dd0689124408965950146d94a975', 'target_node_id': 'ce98aaf5e22b475daf7c9ad0b191c285', 'edge_type': 'involves', 'is_editable': True, 'relation_id': 'ac90dd0689124408965950146d94a975<->ce98aaf5e22b475daf7c9ad0b191c285', 'source_concept': \"The Trickster's Gambit\", 'target_concept': 'Zephyr'}\n",
      "===========\n"
     ]
    }
   ],
   "source": [
    "related_concepts, related_relations= memory_core.get_related_concepts(zephyr_id, hop = 1)\n",
    "for concept in related_concepts:\n",
    "    print(concept)\n",
    "    print(\"===========\")\n",
    "    \n",
    "print(\"88888888888888888888888888888888888888666666666666666666666666666666\")\n",
    "for rel in related_relations:\n",
    "    print(rel)\n",
    "    print(\"===========\")"
   ]
  },
  {
   "cell_type": "code",
   "execution_count": 17,
   "id": "7f174999",
   "metadata": {},
   "outputs": [
    {
     "name": "stdout",
     "output_type": "stream",
     "text": [
      "decb192a76f54c7fa81908ca17438722\n"
     ]
    }
   ],
   "source": [
    "print(arcane_tower_id)"
   ]
  },
  {
   "cell_type": "code",
   "execution_count": null,
   "id": "c5d6bd79",
   "metadata": {},
   "outputs": [],
   "source": []
  }
 ],
 "metadata": {
  "kernelspec": {
   "display_name": "base",
   "language": "python",
   "name": "python3"
  },
  "language_info": {
   "codemirror_mode": {
    "name": "ipython",
    "version": 3
   },
   "file_extension": ".py",
   "mimetype": "text/x-python",
   "name": "python",
   "nbconvert_exporter": "python",
   "pygments_lexer": "ipython3",
   "version": "3.11.5"
  }
 },
 "nbformat": 4,
 "nbformat_minor": 5
}
